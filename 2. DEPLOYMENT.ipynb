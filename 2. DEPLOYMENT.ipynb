{
 "cells": [
  {
   "cell_type": "code",
   "execution_count": 1,
   "id": "4cd402f0-4073-4e6d-9521-c86ae688a1d8",
   "metadata": {},
   "outputs": [],
   "source": [
    "import pickle\n",
    "filename=\"final_model.sav\""
   ]
  },
  {
   "cell_type": "code",
   "execution_count": 2,
   "id": "cfb75abe-45a9-428e-a840-50042890ae0c",
   "metadata": {},
   "outputs": [],
   "source": [
    "load_model= pickle.load(open(\"final_model.sav\",'rb'))\n",
    "result=load_model.predict([[62,25.150,3,0,1,0,1]])"
   ]
  },
  {
   "cell_type": "code",
   "execution_count": 3,
   "id": "bb11be18-1257-4d2c-8702-d35f9b808518",
   "metadata": {},
   "outputs": [
    {
     "data": {
      "text/plain": [
       "array([17244.52938944])"
      ]
     },
     "execution_count": 3,
     "metadata": {},
     "output_type": "execute_result"
    }
   ],
   "source": [
    "result"
   ]
  }
 ],
 "metadata": {
  "kernelspec": {
   "display_name": "Python [conda env:base] *",
   "language": "python",
   "name": "conda-base-py"
  },
  "language_info": {
   "codemirror_mode": {
    "name": "ipython",
    "version": 3
   },
   "file_extension": ".py",
   "mimetype": "text/x-python",
   "name": "python",
   "nbconvert_exporter": "python",
   "pygments_lexer": "ipython3",
   "version": "3.13.5"
  }
 },
 "nbformat": 4,
 "nbformat_minor": 5
}
